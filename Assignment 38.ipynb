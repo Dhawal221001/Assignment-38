{
 "cells": [
  {
   "cell_type": "markdown",
   "id": "94db2326-d34a-400c-aaec-e4d46a9c3837",
   "metadata": {},
   "source": [
    "## Ans 1"
   ]
  },
  {
   "cell_type": "markdown",
   "id": "466b7fb6-1f42-4c63-8787-af37502c1bc6",
   "metadata": {},
   "source": [
    "### AI : It is any smart applications that can perform its own task without human intervention. Eg- Self driving car\n",
    "### ML : It is a part of AI, that provides the statistical tools to learn, analyze, visualize and develop predictive models from the data. Eg- Recommendation system ion netflix\n",
    "### DL : It is a subset of ML that tries to mimic the human brain with the help of multi layed nueral network. Eg- Chat GPT"
   ]
  },
  {
   "cell_type": "markdown",
   "id": "ec247025-2c8c-4d04-8862-791175c6063f",
   "metadata": {},
   "source": [
    "## Ans2"
   ]
  },
  {
   "cell_type": "markdown",
   "id": "a7914cc4-9c75-4233-b2be-ed338ad4c474",
   "metadata": {},
   "source": [
    "### Supervised Learning is defined by its use of labeled datasets to train algorithms that to classify data or predict outcomes accurately.\n",
    "### Examples are fraud detection systems, recommendation engines, and image recognition systems"
   ]
  },
  {
   "cell_type": "markdown",
   "id": "2a821917-7ee0-4c56-bb57-d4674528d770",
   "metadata": {},
   "source": [
    "## Ans 3"
   ]
  },
  {
   "cell_type": "markdown",
   "id": "5fcea371-a042-4f66-b02d-b6fcba100a35",
   "metadata": {},
   "source": [
    "### Unsupervised Learning uses machine learning algorithms to analyze and cluster unlabeled datasets.\n",
    "### Examples  dimension reduction and clustering of customers."
   ]
  },
  {
   "cell_type": "markdown",
   "id": "dbc14958-43f9-4a88-b73b-21acba45b5d1",
   "metadata": {},
   "source": [
    "## Ans4"
   ]
  },
  {
   "cell_type": "markdown",
   "id": "e75185ee-774b-47b4-a2c2-f6064c9c76e7",
   "metadata": {},
   "source": [
    "### 🔹Artificial Intelligence (AI) enables machines to think by understanding, learning from the data, and taking decisions based on patterns hidden in the data or make inferences that would otherwise be very difficult for humans to make manually. The end goal of using ML or DL is to create an AI application or machine as smart as humans.\n",
    "\n",
    "### 🔹Machine Learning (ML) is a subset of AI; it provides us statistical tools/techniques like Supervised, Unsupervised, and Reinforcement learning to explore and analyze the data.\n",
    "\n",
    "### 🔹Deep Learning (DL) is further a subset of ML, and the main idea behind it is to make machines learn by mimicking the human brain. Here, we create a multi neural network architecture with the help of different techniques like ANN, CNN, and RNN.\n",
    "\n",
    "### 🔹Data Science (DS) is basically drawing insights from structured and unstructured data either by using ML or DL or without these techniques. We can even use different visualization tools, statistics, and probability to gain these insights."
   ]
  },
  {
   "cell_type": "markdown",
   "id": "ccf90d63-90db-4454-b56e-927a20500f5f",
   "metadata": {},
   "source": [
    "## Ans 5"
   ]
  },
  {
   "cell_type": "markdown",
   "id": "c6000987-c82f-4513-87f1-c7b7fddf3165",
   "metadata": {},
   "source": [
    "### Supervised learning is a machine learning method in which models are trained using labeled data.\n",
    "### Unsupervised learning is another machine learning method in which patterns inferred from the unlabeled input data. \n",
    "### Semi-Supervised learning is a type of Machine Learning algorithm that represents the intermediate ground between Supervised and Unsupervised learning algorithms. It uses the combination of labeled and unlabeled datasets during the training period."
   ]
  },
  {
   "cell_type": "markdown",
   "id": "7be0debb-ebdb-445b-87c0-793ba2acb0c5",
   "metadata": {},
   "source": [
    "## Ans 6"
   ]
  },
  {
   "cell_type": "markdown",
   "id": "168fd7a4-932f-45c1-84cc-31542728dbf2",
   "metadata": {},
   "source": [
    "### The difference between the training set and the validation set is the training set is the largest corpus of your dataset that you reserve for training your model. After training, inference on these images will be taken with a grain of salt, since the model has already had a chance to look at and memorize the correct output.\n",
    "### The validation set is a separate section of your dataset that you will use during training to get a sense of how well your model is doing on images that are not being used in training.\n",
    "### It is important to hold back a completely separate stronghold of data - the test set. You can run evaluation metrics on the test set at the very end of your project, to get a sense of how well your model will do in production.  "
   ]
  },
  {
   "cell_type": "markdown",
   "id": "a3192955-58b6-438b-8267-9ebb8b1ab682",
   "metadata": {},
   "source": [
    "## Ans 7"
   ]
  },
  {
   "cell_type": "markdown",
   "id": "49ac2b4f-8bfd-4804-a45b-2c7cff8d89a0",
   "metadata": {},
   "source": [
    "### Anomaly detection techniques of unsupervised nature assume that normal data points occur considerably more frequently than anomalous data points. This assumption is used to classify data points that occur less frequently as anomalies. Unsupervised techniques assign each data point a score instead of a label."
   ]
  },
  {
   "cell_type": "markdown",
   "id": "7358330a-e0c7-4dbc-a992-dab4106990cd",
   "metadata": {},
   "source": [
    "## Ans 8"
   ]
  },
  {
   "cell_type": "markdown",
   "id": "96bc45c7-d82c-452a-a63d-3f025d50315d",
   "metadata": {},
   "source": [
    "### Examples of supervised learning algorithms include Decision Trees, Support Vector Machines, Random Forests and Naive Bayes.\n",
    "### Unsupervised learning techniques include clustering algorithms like K-means, hierarchical clustering, and DBSCAN, as well as dimensionality reduction methods like PCA and t-SNE."
   ]
  },
  {
   "cell_type": "code",
   "execution_count": null,
   "id": "e2bcc103-f978-4532-bf9b-5903fee03787",
   "metadata": {},
   "outputs": [],
   "source": []
  }
 ],
 "metadata": {
  "kernelspec": {
   "display_name": "Python 3 (ipykernel)",
   "language": "python",
   "name": "python3"
  },
  "language_info": {
   "codemirror_mode": {
    "name": "ipython",
    "version": 3
   },
   "file_extension": ".py",
   "mimetype": "text/x-python",
   "name": "python",
   "nbconvert_exporter": "python",
   "pygments_lexer": "ipython3",
   "version": "3.10.8"
  }
 },
 "nbformat": 4,
 "nbformat_minor": 5
}
